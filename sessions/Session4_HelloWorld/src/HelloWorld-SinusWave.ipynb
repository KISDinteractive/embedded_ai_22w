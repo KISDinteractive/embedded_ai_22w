{
  "cells": [
    {
      "cell_type": "markdown",
      "metadata": {
        "colab_type": "text",
        "id": "l_-wmxvyP73e"
      },
      "source": [
        "# Create TensorFlow model to predict (not calc) a sine wave\n",
        "This is a notebook for the Interactive Systems course at KISD in WS 22/23. It bases on a tutorial by a turorial by Shawn Hymel / Digikey (https://www.youtube.com/watch?v=BzzqYNYOcWc=)\n",
        "This tutorial however is based on the code by Pete Warden at https://github.com/tensorflow/tensorflow/blob/master/tensorflow/lite/micro/examples/hello_world/create_sine_model.ipynb"
      ]
    },
    {
      "cell_type": "markdown",
      "metadata": {},
      "source": [
        "## Get versions of the dependencies straight"
      ]
    },
    {
      "cell_type": "code",
      "execution_count": null,
      "metadata": {
        "colab": {},
        "colab_type": "code",
        "id": "axunt9z5QBCr"
      },
      "outputs": [],
      "source": [
        "# load some libs\n",
        "import tensorflow as tf\n",
        "import numpy as np\n",
        "import matplotlib.pyplot as plt\n",
        "import math\n",
        "from tensorflow.keras import layers"
      ]
    },
    {
      "cell_type": "code",
      "execution_count": null,
      "metadata": {
        "colab": {
          "base_uri": "https://localhost:8080/",
          "height": 118
        },
        "colab_type": "code",
        "id": "UalEVZteQNDF",
        "outputId": "9d610919-fba2-43a7-ec81-18cdfda056eb"
      },
      "outputs": [],
      "source": [
        "# Print versions. We need to see Python 3.7 in Jupyter AND the Shell (!python --version) as well as tensorflow 2.1.1 to work with the eloquent Arduino library\n",
        "from platform import python_version\n",
        "print('Jupyter Python ' + python_version())\n",
        "!python --version\n",
        "print('Numpy ' + np.__version__)\n",
        "print('TensorFlow ' + tf.__version__)\n",
        "print('Keras ' + tf.keras.__version__)"
      ]
    },
    {
      "cell_type": "markdown",
      "metadata": {},
      "source": [
        "## Create Data to be Used as Training Data"
      ]
    },
    {
      "cell_type": "code",
      "execution_count": null,
      "metadata": {
        "colab": {},
        "colab_type": "code",
        "id": "7rcPcaSGQWvH"
      },
      "outputs": [],
      "source": [
        "# Settings\n",
        "nsamples = 1000     # Number of samples to use as a dataset\n",
        "val_ratio = 0.2     # Percentage of samples that should be held for validation set\n",
        "test_ratio = 0.2    # Percentage of samples that should be held for test set\n",
        "tflite_model_name = 'sine_model'  # Will be given .tflite suffix\n",
        "c_model_name = 'sine_model'       # Will be given .h suffix"
      ]
    },
    {
      "cell_type": "code",
      "execution_count": null,
      "metadata": {
        "colab": {
          "base_uri": "https://localhost:8080/",
          "height": 282
        },
        "colab_type": "code",
        "id": "Ws6srgy9QqQq",
        "outputId": "abca0985-6c75-4d8a-9d45-def4846c047a"
      },
      "outputs": [],
      "source": [
        "# Generate some random samples\n",
        "np.random.seed(1234)\n",
        "x_values = np.random.uniform(low=0, high=(2 * math.pi), size=nsamples)\n",
        "plt.plot(x_values)"
      ]
    },
    {
      "cell_type": "code",
      "execution_count": null,
      "metadata": {
        "colab": {
          "base_uri": "https://localhost:8080/",
          "height": 282
        },
        "colab_type": "code",
        "id": "yGpkU2W5Q0tu",
        "outputId": "899c89e7-6f15-4b0c-d4aa-8ca127a47ab1"
      },
      "outputs": [],
      "source": [
        "# Create a noisy sinewave with these values\n",
        "y_values = np.sin(x_values) + (0.1 * np.random.randn(x_values.shape[0]))\n",
        "plt.plot(x_values, y_values, '.')"
      ]
    },
    {
      "cell_type": "code",
      "execution_count": null,
      "metadata": {
        "colab": {
          "base_uri": "https://localhost:8080/",
          "height": 265
        },
        "colab_type": "code",
        "id": "ZHkdG5kHQ-hZ",
        "outputId": "2da9eda1-0795-49bf-f491-798c2e36e81e"
      },
      "outputs": [],
      "source": [
        "# Plit the dataset into training, validation, and test sets\n",
        "val_split = int(val_ratio * nsamples)\n",
        "test_split = int(val_split + (test_ratio * nsamples))\n",
        "x_val, x_test, x_train = np.split(x_values, [val_split, test_split])\n",
        "y_val, y_test, y_train = np.split(y_values, [val_split, test_split])\n",
        "\n",
        "# Check that our splits add up correctly\n",
        "assert(x_train.size + x_val.size + x_test.size) == nsamples\n",
        "\n",
        "# Plot the data in each partition in different colors:\n",
        "plt.plot(x_train, y_train, 'b.', label=\"Train\")\n",
        "plt.plot(x_test, y_test, 'r.', label=\"Test\")\n",
        "plt.plot(x_val, y_val, 'y.', label=\"Validate\")\n",
        "plt.legend()\n",
        "plt.show()"
      ]
    },
    {
      "cell_type": "markdown",
      "metadata": {},
      "source": [
        "## Prepare the Actual Model"
      ]
    },
    {
      "cell_type": "code",
      "execution_count": null,
      "metadata": {
        "colab": {},
        "colab_type": "code",
        "id": "SdZ7nh49RveB"
      },
      "outputs": [],
      "source": [
        "# Create a model\n",
        "model = tf.keras.Sequential()\n",
        "model.add(layers.Dense(16, activation='relu', input_shape=(1,)))\n",
        "model.add(layers.Dense(16, activation='relu'))\n",
        "model.add(layers.Dense(1))"
      ]
    },
    {
      "cell_type": "code",
      "execution_count": null,
      "metadata": {
        "colab": {
          "base_uri": "https://localhost:8080/",
          "height": 252
        },
        "colab_type": "code",
        "id": "2PEmqpDChct3",
        "outputId": "ad66d839-19f4-41b0-bb38-d9be838f0085"
      },
      "outputs": [],
      "source": [
        "# View model\n",
        "model.summary()"
      ]
    },
    {
      "cell_type": "code",
      "execution_count": null,
      "metadata": {
        "colab": {},
        "colab_type": "code",
        "id": "kCwv3kMUhe4S"
      },
      "outputs": [],
      "source": [
        "# Add optimizer, loss function, and metrics to model and compile it\n",
        "model.compile(optimizer='rmsprop', loss='mae', metrics=['mae'])"
      ]
    },
    {
      "cell_type": "markdown",
      "metadata": {},
      "source": [
        "## Train Model"
      ]
    },
    {
      "cell_type": "code",
      "execution_count": null,
      "metadata": {
        "colab": {
          "base_uri": "https://localhost:8080/",
          "height": 1000
        },
        "colab_type": "code",
        "id": "-lSCIHp3howX",
        "outputId": "0ffea290-c1ce-4663-a08f-afc51582826c"
      },
      "outputs": [],
      "source": [
        "# Train model\n",
        "history = model.fit(x_train,\n",
        "                    y_train,\n",
        "                    epochs=500,\n",
        "                    batch_size=100,\n",
        "                    validation_data=(x_val, y_val))"
      ]
    },
    {
      "cell_type": "markdown",
      "metadata": {},
      "source": [
        "## Plot and Test Model"
      ]
    },
    {
      "cell_type": "code",
      "execution_count": null,
      "metadata": {
        "colab": {
          "base_uri": "https://localhost:8080/",
          "height": 281
        },
        "colab_type": "code",
        "id": "uxQvW2qWhxvP",
        "outputId": "431b6315-bfd0-47b3-b43e-74818c0ac470"
      },
      "outputs": [],
      "source": [
        "# Plot the training history\n",
        "loss = history.history['loss']\n",
        "val_loss = history.history['val_loss']\n",
        "\n",
        "epochs = range(1, len(loss) + 1)\n",
        "\n",
        "plt.plot(epochs, loss, 'bo', label='Training loss')\n",
        "plt.plot(epochs, val_loss, 'b', label='Validation loss')\n",
        "plt.title('Training and validation loss')\n",
        "plt.legend()\n",
        "plt.show()"
      ]
    },
    {
      "cell_type": "code",
      "execution_count": null,
      "metadata": {
        "colab": {
          "base_uri": "https://localhost:8080/",
          "height": 281
        },
        "colab_type": "code",
        "id": "4YIvoLMpiKke",
        "outputId": "49091262-d13e-4237-b89f-1265a865b920"
      },
      "outputs": [],
      "source": [
        "# Plot predictions against actual values\n",
        "predictions = model.predict(x_test)\n",
        "\n",
        "plt.clf()\n",
        "plt.title(\"Comparison of predictions to actual values\")\n",
        "plt.plot(x_test, y_test, 'b.', label='Actual')\n",
        "plt.plot(x_test, predictions, 'r.', label='Prediction')\n",
        "plt.legend()\n",
        "plt.show()"
      ]
    },
    {
      "cell_type": "markdown",
      "metadata": {},
      "source": [
        "## Convert Model to TensorFlow Lite & make it a C-Array"
      ]
    },
    {
      "cell_type": "code",
      "execution_count": null,
      "metadata": {
        "colab": {
          "base_uri": "https://localhost:8080/",
          "height": 34
        },
        "colab_type": "code",
        "id": "DvyeXXngioVI",
        "outputId": "5a40a02f-508c-4d0e-f27b-bb373301b634"
      },
      "outputs": [],
      "source": [
        "# Convert Keras model to a tflite model\n",
        "converter = tf.lite.TFLiteConverter.from_keras_model(model)\n",
        "converter.optimizations = [tf.lite.Optimize.OPTIMIZE_FOR_SIZE]\n",
        "tflite_model = converter.convert()\n",
        "\n",
        "open(tflite_model_name + '.tflite', 'wb').write(tflite_model)"
      ]
    },
    {
      "cell_type": "code",
      "execution_count": null,
      "metadata": {
        "colab": {},
        "colab_type": "code",
        "id": "e1cX-L0wi7f8"
      },
      "outputs": [],
      "source": [
        "# Function: Convert some hex value into an array for C programming\n",
        "def hex_to_c_array(hex_data, var_name):\n",
        "\n",
        "  c_str = ''\n",
        "\n",
        "  # Create header guard\n",
        "  c_str += '#ifndef ' + var_name.upper() + '_H\\n'\n",
        "  c_str += '#define ' + var_name.upper() + '_H\\n\\n'\n",
        "\n",
        "  # Add array length at top of file\n",
        "  c_str += '\\nunsigned int ' + var_name + '_len = ' + str(len(hex_data)) + ';\\n'\n",
        "\n",
        "  # Declare C variable\n",
        "  c_str += 'unsigned char ' + var_name + '[] = {'\n",
        "  hex_array = []\n",
        "  for i, val in enumerate(hex_data) :\n",
        "\n",
        "    # Construct string from hex\n",
        "    hex_str = format(val, '#04x')\n",
        "\n",
        "    # Add formatting so each line stays within 80 characters\n",
        "    if (i + 1) < len(hex_data):\n",
        "      hex_str += ','\n",
        "    if (i + 1) % 12 == 0:\n",
        "      hex_str += '\\n '\n",
        "    hex_array.append(hex_str)\n",
        "\n",
        "  # Add closing brace\n",
        "  c_str += '\\n ' + format(' '.join(hex_array)) + '\\n};\\n\\n'\n",
        "\n",
        "  # Close out header guard\n",
        "  c_str += '#endif //' + var_name.upper() + '_H'\n",
        "\n",
        "  return c_str"
      ]
    },
    {
      "cell_type": "code",
      "execution_count": null,
      "metadata": {
        "colab": {},
        "colab_type": "code",
        "id": "Ocv3Ax29ZSPu"
      },
      "outputs": [],
      "source": [
        "# Write TFLite model to a C source (or header) file\n",
        "with open(c_model_name + '.h', 'w') as file:\n",
        "  file.write(hex_to_c_array(tflite_model, c_model_name))"
      ]
    }
  ],
  "metadata": {
    "colab": {
      "name": "tflite-sinewave-training.ipynb",
      "provenance": []
    },
    "kernelspec": {
      "display_name": "Python 3.10.6 64-bit",
      "language": "python",
      "name": "python3"
    },
    "language_info": {
      "name": "python",
      "version": "3.10.6"
    },
    "vscode": {
      "interpreter": {
        "hash": "b0fa6594d8f4cbf19f97940f81e996739fb7646882a419484c72d19e05852a7e"
      }
    }
  },
  "nbformat": 4,
  "nbformat_minor": 0
}
