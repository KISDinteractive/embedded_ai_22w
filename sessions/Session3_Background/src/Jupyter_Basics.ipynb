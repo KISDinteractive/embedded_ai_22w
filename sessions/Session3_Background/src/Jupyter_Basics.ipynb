{
 "cells": [
  {
   "cell_type": "markdown",
   "metadata": {},
   "source": [
    "# Recap: First Steps in Python\n",
    "This is cheat sheet for some first steps in python using a Jupyter Notebook"
   ]
  },
  {
   "cell_type": "markdown",
   "metadata": {},
   "source": [
    "## Using Cells in Jupyter\n",
    "- create a code cell\n",
    "- type any python code inside\n",
    "- use `#` for comments\n",
    "- hit **shift + enter** to execute this cell only"
   ]
  },
  {
   "cell_type": "code",
   "execution_count": null,
   "metadata": {},
   "outputs": [],
   "source": [
    "# Press shift + enter to test: a pure input just gets outputted immediately\n",
    "\"Hello World!\""
   ]
  },
  {
   "cell_type": "code",
   "execution_count": null,
   "metadata": {},
   "outputs": [],
   "source": [
    "# Same applies for integer numbers...\n",
    "32"
   ]
  },
  {
   "cell_type": "code",
   "execution_count": null,
   "metadata": {},
   "outputs": [],
   "source": [
    "# ... for float numbers ...\n",
    "0.3"
   ]
  },
  {
   "cell_type": "code",
   "execution_count": null,
   "metadata": {},
   "outputs": [],
   "source": [
    "# and e.g. for math operations\n",
    "2+2"
   ]
  },
  {
   "cell_type": "markdown",
   "metadata": {},
   "source": [
    "## Saving to Variables\n",
    "You can save values to variables for later use or output, by writing the variables name `=` and the value:"
   ]
  },
  {
   "cell_type": "code",
   "execution_count": null,
   "metadata": {},
   "outputs": [],
   "source": [
    "# save result of math operation to variable \"myResult\" \n",
    "myResult = 2+2"
   ]
  },
  {
   "cell_type": "code",
   "execution_count": null,
   "metadata": {},
   "outputs": [],
   "source": [
    "# output the value of \"myResult\"\n",
    "myResult"
   ]
  },
  {
   "cell_type": "markdown",
   "metadata": {},
   "source": [
    "## Output Variables by Using the Print() Function\n",
    "To output multiple variables or to combine them in one output you can use the print() function:"
   ]
  },
  {
   "cell_type": "code",
   "execution_count": null,
   "metadata": {},
   "outputs": [],
   "source": [
    "# Create multiple variables (by assigning values to them):\n",
    "myResult = 2 + 2\n",
    "myText = \"The result of 2+2 is:\"\n",
    "myFloat = 0.1"
   ]
  },
  {
   "cell_type": "code",
   "execution_count": null,
   "metadata": {},
   "outputs": [],
   "source": [
    "# Output multiple values with the print() function:\n",
    "print(myText, myResult) # multiple elements can be separated with comma\n",
    "print(\"This is a floating number:\", myFloat) # text can also be added inside the print() function"
   ]
  },
  {
   "cell_type": "markdown",
   "metadata": {},
   "source": [
    "## Operating with Variables\n",
    "Variables (vars) can be delt in many ways depending on their type. Here are some examples:"
   ]
  },
  {
   "cell_type": "code",
   "execution_count": null,
   "metadata": {},
   "outputs": [],
   "source": [
    "type(myText) # output type of the var"
   ]
  },
  {
   "cell_type": "code",
   "execution_count": null,
   "metadata": {},
   "outputs": [],
   "source": [
    "len(myText) # output length of String (text) vars"
   ]
  },
  {
   "cell_type": "code",
   "execution_count": null,
   "metadata": {},
   "outputs": [],
   "source": [
    "numberA = 3\n",
    "numberB = 5"
   ]
  },
  {
   "cell_type": "code",
   "execution_count": null,
   "metadata": {},
   "outputs": [],
   "source": [
    "numberA * numberB # multiply two vars with each other..."
   ]
  },
  {
   "cell_type": "code",
   "execution_count": null,
   "metadata": {},
   "outputs": [],
   "source": [
    "numberA / numberB # divide two vars"
   ]
  },
  {
   "cell_type": "code",
   "execution_count": null,
   "metadata": {},
   "outputs": [],
   "source": [
    "type(numberA / numberB ) # -> note that the result is now a float!"
   ]
  },
  {
   "cell_type": "code",
   "execution_count": null,
   "metadata": {},
   "outputs": [],
   "source": [
    "# increment an int:\n",
    "testIndex = 0               # start at 0\n",
    "testIndex = testIndex + 1   # one way to increment by 1\n",
    "testIndex += 1              # other way to increment by 1\n",
    "# textIndex++               # not possible in python!!\n",
    "testIndex                   # output"
   ]
  },
  {
   "cell_type": "code",
   "execution_count": null,
   "metadata": {},
   "outputs": [],
   "source": [
    "# Order is still key!\n",
    "a = 1\n",
    "b = 2\n",
    "c = a\n",
    "print(\"a =\", a, \" | b =\", b, \" | c =\", c)\n",
    "\n",
    "a = 5\n",
    "print(\"a =\", a, \" | b =\", b, \" | c =\", c, \" -> note: c is still 1. The value got assigned, when a was 1...\")\n",
    "\n",
    "c = a\n",
    "print(\"a =\", a, \" | b =\", b, \" | c =\", c, \" -> after the reassignment c is now also 5\")"
   ]
  },
  {
   "cell_type": "markdown",
   "metadata": {},
   "source": [
    "# Looping in Python\n",
    "The basic for loop in python uses a \"range\": a set of numbers (with start and end point) that the loop runs through.\n",
    "- Everything inside of the loop must be indented by 4 spaces / 1 tab. \n",
    "- Loop starts at the `:` and ends with the first unindented line.  \n",
    "- The `range(4)` starts at 0, as python is by definition zero based"
   ]
  },
  {
   "cell_type": "code",
   "execution_count": null,
   "metadata": {},
   "outputs": [],
   "source": [
    "for i in range(4):\n",
    "    print(i)"
   ]
  },
  {
   "cell_type": "code",
   "execution_count": null,
   "metadata": {},
   "outputs": [],
   "source": [
    "# adding all numbers of the iteration in form of a string\n",
    "myString = \"\" # create empty String\n",
    "for i in range(8):\n",
    "    myString += str(i)                  # \"cast\" (convert) int to string type by using str() and append it to string\n",
    "print(\"Full string is: \" + myString)    # after the loop: print the full string"
   ]
  },
  {
   "cell_type": "markdown",
   "metadata": {},
   "source": [
    "# Conditionals in Python\n",
    "Conditionals are quite simple in python. just as with the loops you have to indent everything that should be done IF the conditional test is true by 4 spaces / 1 tab"
   ]
  },
  {
   "cell_type": "code",
   "execution_count": 162,
   "metadata": {},
   "outputs": [
    {
     "name": "stdout",
     "output_type": "stream",
     "text": [
      "This line will always get printed out, as 1 is equal to 1\n"
     ]
    }
   ],
   "source": [
    "if 1==2:\n",
    "    print('This line will never get printed out, as 1 is never euqal to 2')\n",
    "\n",
    "if 1==1:\n",
    "    print('This line will always get printed out, as 1 is equal to 1')\n"
   ]
  },
  {
   "cell_type": "code",
   "execution_count": 165,
   "metadata": {},
   "outputs": [
    {
     "name": "stdout",
     "output_type": "stream",
     "text": [
      "It#s not freezing right now\n"
     ]
    }
   ],
   "source": [
    "temperature = 19\n",
    "if temperature > 0:\n",
    "    print(\"It#s not freezing right now\")"
   ]
  },
  {
   "cell_type": "code",
   "execution_count": 166,
   "metadata": {},
   "outputs": [
    {
     "name": "stdout",
     "output_type": "stream",
     "text": [
      "It is uncomfortable outside\n"
     ]
    }
   ],
   "source": [
    "temperature = 19\n",
    "if temperature > 20 and temperature < 35: \n",
    "    print('The temperature outside is nice')\n",
    "else:\n",
    "    print('It is uncomfortable outside')"
   ]
  },
  {
   "cell_type": "markdown",
   "metadata": {},
   "source": [
    "# Lists in Python\n",
    "There is no \"Array\" in python. Among various kinds of data structures, the list is the best known.\n",
    "- You do not have to define the size in the beginning (different to C/C++/Arduino and even Java/Processing)\n",
    "- Insert/append and remove elements in any stage of the program\n",
    "- Does not have to be the same data type (can be e.g. Strings and Floats in one list)"
   ]
  },
  {
   "cell_type": "code",
   "execution_count": 121,
   "metadata": {},
   "outputs": [],
   "source": [
    "myNames = [\"Thomas\", \"Sara\", \"Markus\", \"Mona\", \"Hanna\" ]    # good practice: use the variable name in plural to show it's a list\n",
    "myAges = [23,34,33,26,26]                           # store some ints"
   ]
  },
  {
   "cell_type": "code",
   "execution_count": 122,
   "metadata": {},
   "outputs": [
    {
     "name": "stdout",
     "output_type": "stream",
     "text": [
      "Thomas\n",
      "Sara\n",
      "Markus\n",
      "Mona\n",
      "Hanna\n"
     ]
    }
   ],
   "source": [
    "# print all elements of the list by using special for loop:\n",
    "for item in myNames:\n",
    "    print(item)"
   ]
  },
  {
   "cell_type": "code",
   "execution_count": 126,
   "metadata": {},
   "outputs": [
    {
     "data": {
      "text/plain": [
       "'Sara'"
      ]
     },
     "execution_count": 126,
     "metadata": {},
     "output_type": "execute_result"
    }
   ],
   "source": [
    "# pick a certain value from the list (note that the list starts with '0'):\n",
    "myNames[1]"
   ]
  },
  {
   "cell_type": "code",
   "execution_count": 123,
   "metadata": {},
   "outputs": [
    {
     "name": "stdout",
     "output_type": "stream",
     "text": [
      "Thomas is 23 years old.\n",
      "Sara is 34 years old.\n",
      "Markus is 33 years old.\n",
      "Mona is 26 years old.\n",
      "Hanna is 26 years old.\n"
     ]
    }
   ],
   "source": [
    "# mixing content of two lists in one print:\n",
    "listLength = len(myNames) # get current length of the list first\n",
    "for i in range(listLength):\n",
    "    print(myNames[i], \"is\", myAges[i], \"years old.\") # combine data at index i"
   ]
  },
  {
   "cell_type": "code",
   "execution_count": 128,
   "metadata": {},
   "outputs": [
    {
     "name": "stdout",
     "output_type": "stream",
     "text": [
      "Hello World!\n"
     ]
    }
   ],
   "source": [
    "# store various data types -> even functions like \"print\" are possible!\n",
    "myMixed = [\"Hello\", \"World\", 3.1, print]\n",
    "\n",
    "# use the print function from the list\n",
    "myMixed[3](\"Hello World!\")"
   ]
  },
  {
   "cell_type": "markdown",
   "metadata": {},
   "source": [
    "# Dict: a special version of the list\n",
    "With a dictionary (`dict`) you can store pairs of values, just like in a dictionary. It can be used similar to a list and data types can also be mixed."
   ]
  },
  {
   "cell_type": "code",
   "execution_count": 129,
   "metadata": {},
   "outputs": [],
   "source": [
    "# would actually fit the name -> age combination much better:\n",
    "myDict = {'Thomas':23, \"Sara\":34, \"Markus\":33}   # {key:value, key:value, key:value}"
   ]
  },
  {
   "cell_type": "code",
   "execution_count": 131,
   "metadata": {},
   "outputs": [
    {
     "name": "stdout",
     "output_type": "stream",
     "text": [
      "Thomas 23\n",
      "Sara 34\n",
      "Markus 33\n"
     ]
    }
   ],
   "source": [
    "for item in myDict:\n",
    "    print(item, myDict[item])"
   ]
  },
  {
   "cell_type": "code",
   "execution_count": 142,
   "metadata": {},
   "outputs": [
    {
     "name": "stdout",
     "output_type": "stream",
     "text": [
      "Thomas is: 23\n"
     ]
    }
   ],
   "source": [
    "print(\"Thomas is:\", myDict[\"Thomas\"]) # print only Thomas' age"
   ]
  },
  {
   "cell_type": "code",
   "execution_count": 143,
   "metadata": {},
   "outputs": [],
   "source": [
    "# Not possible! Dicts are orderless...\n",
    "# myDict[0] -> give me first entry"
   ]
  },
  {
   "cell_type": "markdown",
   "metadata": {},
   "source": [
    "# Manipulating Strings\n",
    "There is a lot of useful ways to work with strings in python:"
   ]
  },
  {
   "cell_type": "code",
   "execution_count": 145,
   "metadata": {},
   "outputs": [
    {
     "data": {
      "text/plain": [
       "'hello world!'"
      ]
     },
     "execution_count": 145,
     "metadata": {},
     "output_type": "execute_result"
    }
   ],
   "source": [
    "\"Hello World!\".lower() # make everything lower case"
   ]
  },
  {
   "cell_type": "code",
   "execution_count": 147,
   "metadata": {},
   "outputs": [
    {
     "data": {
      "text/plain": [
       "'many spaces'"
      ]
     },
     "execution_count": 147,
     "metadata": {},
     "output_type": "execute_result"
    }
   ],
   "source": [
    "\"    many spaces  \".strip() # get rid of spaces in beginning and end"
   ]
  },
  {
   "cell_type": "code",
   "execution_count": 156,
   "metadata": {},
   "outputs": [
    {
     "name": "stdout",
     "output_type": "stream",
     "text": [
      "List of all parts: ['Hi', 'this is the Living Objects Lab.']\n",
      "Everything before the comma: Hi\n",
      "Everything after the comma: this is the Living Objects Lab.\n"
     ]
    }
   ],
   "source": [
    "mySentence = \"Hi, this is the Living Objects Lab.\"\n",
    "sentenceParts = mySentence.split(\", \")\n",
    "print(\"List of all parts:\", sentenceParts)\n",
    "print(\"Everything before the comma:\", sentenceParts[0])\n",
    "print(\"Everything after the comma:\", sentenceParts[1])\n"
   ]
  }
 ],
 "metadata": {
  "kernelspec": {
   "display_name": "Python 3.10.6 64-bit",
   "language": "python",
   "name": "python3"
  },
  "language_info": {
   "codemirror_mode": {
    "name": "ipython",
    "version": 3
   },
   "file_extension": ".py",
   "mimetype": "text/x-python",
   "name": "python",
   "nbconvert_exporter": "python",
   "pygments_lexer": "ipython3",
   "version": "3.10.6"
  },
  "orig_nbformat": 4,
  "vscode": {
   "interpreter": {
    "hash": "b0fa6594d8f4cbf19f97940f81e996739fb7646882a419484c72d19e05852a7e"
   }
  }
 },
 "nbformat": 4,
 "nbformat_minor": 2
}
