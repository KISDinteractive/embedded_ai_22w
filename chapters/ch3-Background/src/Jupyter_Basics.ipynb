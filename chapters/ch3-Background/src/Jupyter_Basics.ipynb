{
 "cells": [
  {
   "cell_type": "markdown",
   "metadata": {},
   "source": [
    "# Recap: First Steps in Python\n",
    "This is cheat sheet for some first steps in python using a Jupyter Notebook"
   ]
  },
  {
   "cell_type": "markdown",
   "metadata": {},
   "source": [
    "## Using Cells in Jupyter\n",
    "- create a code cell\n",
    "- type any python code inside\n",
    "- use `#` for comments\n",
    "- hit **shift + enter** to execute this cell only"
   ]
  },
  {
   "cell_type": "code",
   "execution_count": 1,
   "metadata": {},
   "outputs": [
    {
     "data": {
      "text/plain": [
       "'Hello World!'"
      ]
     },
     "execution_count": 1,
     "metadata": {},
     "output_type": "execute_result"
    }
   ],
   "source": [
    "# Press shift + enter to test: a pure input just gets outputted immediately\n",
    "\"Hello World!\""
   ]
  },
  {
   "cell_type": "code",
   "execution_count": 2,
   "metadata": {},
   "outputs": [
    {
     "data": {
      "text/plain": [
       "32"
      ]
     },
     "execution_count": 2,
     "metadata": {},
     "output_type": "execute_result"
    }
   ],
   "source": [
    "# Same applies for integer numbers...\n",
    "32"
   ]
  },
  {
   "cell_type": "code",
   "execution_count": 3,
   "metadata": {},
   "outputs": [
    {
     "data": {
      "text/plain": [
       "0.3"
      ]
     },
     "execution_count": 3,
     "metadata": {},
     "output_type": "execute_result"
    }
   ],
   "source": [
    "# ... for float numbers ...\n",
    "0.3"
   ]
  },
  {
   "cell_type": "code",
   "execution_count": 4,
   "metadata": {},
   "outputs": [
    {
     "data": {
      "text/plain": [
       "4"
      ]
     },
     "execution_count": 4,
     "metadata": {},
     "output_type": "execute_result"
    }
   ],
   "source": [
    "# and e.g. for math operations\n",
    "2+2"
   ]
  },
  {
   "cell_type": "markdown",
   "metadata": {},
   "source": [
    "## Saving to Variables\n",
    "You can save values to variables for later use or output, by writing the variables name `=` and the value:"
   ]
  },
  {
   "cell_type": "code",
   "execution_count": 5,
   "metadata": {},
   "outputs": [],
   "source": [
    "# save result of math operation to variable \"myResult\" \n",
    "myResult = 2+2"
   ]
  },
  {
   "cell_type": "code",
   "execution_count": 6,
   "metadata": {},
   "outputs": [
    {
     "data": {
      "text/plain": [
       "4"
      ]
     },
     "execution_count": 6,
     "metadata": {},
     "output_type": "execute_result"
    }
   ],
   "source": [
    "# output the value of \"myResult\"\n",
    "myResult"
   ]
  },
  {
   "cell_type": "markdown",
   "metadata": {},
   "source": [
    "## Output Variables by Using the Print() Function\n",
    "To output multiple variables or to combine them in one output you can use the print() function:"
   ]
  },
  {
   "cell_type": "code",
   "execution_count": 7,
   "metadata": {},
   "outputs": [],
   "source": [
    "# Create multiple variables (by assigning values to them):\n",
    "myResult = 2 + 2\n",
    "myText = \"The result of 2+2 is:\"\n",
    "myFloat = 0.1"
   ]
  },
  {
   "cell_type": "code",
   "execution_count": 8,
   "metadata": {},
   "outputs": [
    {
     "name": "stdout",
     "output_type": "stream",
     "text": [
      "The result of 2+2 is: 4\n",
      "This is a floating number: 0.1\n"
     ]
    }
   ],
   "source": [
    "# Output multiple values with the print() function:\n",
    "print(myText, myResult) # multiple elements can be separated with comma\n",
    "print(\"This is a floating number:\", myFloat) # text can also be added inside the print() function"
   ]
  },
  {
   "cell_type": "markdown",
   "metadata": {},
   "source": [
    "## Operating with Variables\n",
    "Variables (vars) can be delt in many ways depending on their type. Here are some examples:"
   ]
  },
  {
   "cell_type": "code",
   "execution_count": 9,
   "metadata": {},
   "outputs": [
    {
     "data": {
      "text/plain": [
       "str"
      ]
     },
     "execution_count": 9,
     "metadata": {},
     "output_type": "execute_result"
    }
   ],
   "source": [
    "type(myText) # output type of the var"
   ]
  },
  {
   "cell_type": "code",
   "execution_count": 10,
   "metadata": {},
   "outputs": [
    {
     "data": {
      "text/plain": [
       "21"
      ]
     },
     "execution_count": 10,
     "metadata": {},
     "output_type": "execute_result"
    }
   ],
   "source": [
    "len(myText) # output length of String (text) vars"
   ]
  },
  {
   "cell_type": "code",
   "execution_count": 11,
   "metadata": {},
   "outputs": [],
   "source": [
    "numberA = 3\n",
    "numberB = 5"
   ]
  },
  {
   "cell_type": "code",
   "execution_count": 12,
   "metadata": {},
   "outputs": [
    {
     "data": {
      "text/plain": [
       "15"
      ]
     },
     "execution_count": 12,
     "metadata": {},
     "output_type": "execute_result"
    }
   ],
   "source": [
    "numberA * numberB # multiply two vars with each other..."
   ]
  },
  {
   "cell_type": "code",
   "execution_count": 13,
   "metadata": {},
   "outputs": [
    {
     "data": {
      "text/plain": [
       "0.6"
      ]
     },
     "execution_count": 13,
     "metadata": {},
     "output_type": "execute_result"
    }
   ],
   "source": [
    "numberA / numberB # divide two vars"
   ]
  },
  {
   "cell_type": "code",
   "execution_count": 14,
   "metadata": {},
   "outputs": [
    {
     "data": {
      "text/plain": [
       "float"
      ]
     },
     "execution_count": 14,
     "metadata": {},
     "output_type": "execute_result"
    }
   ],
   "source": [
    "type(numberA / numberB ) # -> note that the result is now a float!"
   ]
  },
  {
   "cell_type": "code",
   "execution_count": 15,
   "metadata": {},
   "outputs": [
    {
     "data": {
      "text/plain": [
       "2"
      ]
     },
     "execution_count": 15,
     "metadata": {},
     "output_type": "execute_result"
    }
   ],
   "source": [
    "# increment an int:\n",
    "testIndex = 0               # start at 0\n",
    "testIndex = testIndex + 1   # one way to increment by 1\n",
    "testIndex += 1              # other way to increment by 1\n",
    "# textIndex++               # not possible in python!!\n",
    "testIndex                   # output"
   ]
  },
  {
   "cell_type": "code",
   "execution_count": 16,
   "metadata": {},
   "outputs": [
    {
     "name": "stdout",
     "output_type": "stream",
     "text": [
      "a = 1  | b = 2  | c = 1\n",
      "a = 5  | b = 2  | c = 1  -> note: c is still 1. The value got assigned, when a was 1...\n",
      "a = 5  | b = 2  | c = 5  -> after the reassignment c is now also 5\n"
     ]
    }
   ],
   "source": [
    "# Order is still key!\n",
    "a = 1\n",
    "b = 2\n",
    "c = a\n",
    "print(\"a =\", a, \" | b =\", b, \" | c =\", c)\n",
    "\n",
    "a = 5\n",
    "print(\"a =\", a, \" | b =\", b, \" | c =\", c, \" -> note: c is still 1. The value got assigned, when a was 1...\")\n",
    "\n",
    "c = a\n",
    "print(\"a =\", a, \" | b =\", b, \" | c =\", c, \" -> after the reassignment c is now also 5\")"
   ]
  },
  {
   "cell_type": "markdown",
   "metadata": {},
   "source": [
    "# Looping in Python\n",
    "The basic for loop in python uses a \"range\": a set of numbers (with start and end point) that the loop runs through.\n",
    "- Everything inside of the loop must be indented by 4 spaces / 1 tab. \n",
    "- Loop starts at the `:` and ends with the first unindented line.  \n",
    "- The `range(4)` starts at 0, as python is by definition zero based"
   ]
  },
  {
   "cell_type": "code",
   "execution_count": 17,
   "metadata": {},
   "outputs": [
    {
     "name": "stdout",
     "output_type": "stream",
     "text": [
      "0\n",
      "1\n",
      "2\n",
      "3\n"
     ]
    }
   ],
   "source": [
    "for i in range(4):\n",
    "    print(i)"
   ]
  },
  {
   "cell_type": "code",
   "execution_count": 18,
   "metadata": {},
   "outputs": [
    {
     "name": "stdout",
     "output_type": "stream",
     "text": [
      "Full string is: 01234567\n"
     ]
    }
   ],
   "source": [
    "# adding all numbers of the iteration in form of a string\n",
    "myString = \"\" # create empty String\n",
    "for i in range(8):\n",
    "    myString += str(i)                  # \"cast\" (convert) int to string type by using str() and append it to string\n",
    "print(\"Full string is: \" + myString)    # after the loop: print the full string"
   ]
  },
  {
   "cell_type": "markdown",
   "metadata": {},
   "source": [
    "# Conditionals in Python\n",
    "Conditionals are quite simple in python. just as with the loops you have to indent everything that should be done IF the conditional test is true by 4 spaces / 1 tab"
   ]
  },
  {
   "cell_type": "code",
   "execution_count": 19,
   "metadata": {},
   "outputs": [
    {
     "name": "stdout",
     "output_type": "stream",
     "text": [
      "This line will always get printed out, as 1 is equal to 1\n"
     ]
    }
   ],
   "source": [
    "if 1==2:\n",
    "    print('This line will never get printed out, as 1 is never euqal to 2')\n",
    "\n",
    "if 1==1:\n",
    "    print('This line will always get printed out, as 1 is equal to 1')\n"
   ]
  },
  {
   "cell_type": "code",
   "execution_count": 20,
   "metadata": {},
   "outputs": [
    {
     "name": "stdout",
     "output_type": "stream",
     "text": [
      "It#s not freezing right now\n"
     ]
    }
   ],
   "source": [
    "temperature = 19\n",
    "if temperature > 0:\n",
    "    print(\"It#s not freezing right now\")"
   ]
  },
  {
   "cell_type": "code",
   "execution_count": 21,
   "metadata": {},
   "outputs": [
    {
     "name": "stdout",
     "output_type": "stream",
     "text": [
      "It is uncomfortable outside\n"
     ]
    }
   ],
   "source": [
    "temperature = 19\n",
    "if temperature > 20 and temperature < 35: \n",
    "    print('The temperature outside is nice')\n",
    "else:\n",
    "    print('It is uncomfortable outside')"
   ]
  },
  {
   "cell_type": "markdown",
   "metadata": {},
   "source": [
    "# Lists in Python\n",
    "There is no \"Array\" in python. Among various kinds of data structures, the list is the best known.\n",
    "- You do not have to define the size in the beginning (different to C/C++/Arduino and even Java/Processing)\n",
    "- Insert/append and remove elements in any stage of the program\n",
    "- Does not have to be the same data type (can be e.g. Strings and Floats in one list)"
   ]
  },
  {
   "cell_type": "code",
   "execution_count": 22,
   "metadata": {},
   "outputs": [],
   "source": [
    "myNames = [\"Thomas\", \"Sara\", \"Markus\", \"Mona\", \"Hanna\" ]    # good practice: use the variable name in plural to show it's a list\n",
    "myAges = [23,34,33,26,26]                           # store some ints"
   ]
  },
  {
   "cell_type": "code",
   "execution_count": 23,
   "metadata": {},
   "outputs": [
    {
     "name": "stdout",
     "output_type": "stream",
     "text": [
      "Thomas\n",
      "Sara\n",
      "Markus\n",
      "Mona\n",
      "Hanna\n"
     ]
    }
   ],
   "source": [
    "# print all elements of the list by using special for loop:\n",
    "for item in myNames:\n",
    "    print(item)"
   ]
  },
  {
   "cell_type": "code",
   "execution_count": 24,
   "metadata": {},
   "outputs": [
    {
     "data": {
      "text/plain": [
       "'Sara'"
      ]
     },
     "execution_count": 24,
     "metadata": {},
     "output_type": "execute_result"
    }
   ],
   "source": [
    "# pick a certain value from the list (note that the list starts with '0'):\n",
    "myNames[1]"
   ]
  },
  {
   "cell_type": "code",
   "execution_count": 25,
   "metadata": {},
   "outputs": [
    {
     "name": "stdout",
     "output_type": "stream",
     "text": [
      "Thomas is 23 years old.\n",
      "Sara is 34 years old.\n",
      "Markus is 33 years old.\n",
      "Mona is 26 years old.\n",
      "Hanna is 26 years old.\n"
     ]
    }
   ],
   "source": [
    "# mixing content of two lists in one print:\n",
    "listLength = len(myNames) # get current length of the list first\n",
    "for i in range(listLength):\n",
    "    print(myNames[i], \"is\", myAges[i], \"years old.\") # combine data at index i"
   ]
  },
  {
   "cell_type": "code",
   "execution_count": 26,
   "metadata": {},
   "outputs": [
    {
     "name": "stdout",
     "output_type": "stream",
     "text": [
      "Hello World!\n"
     ]
    }
   ],
   "source": [
    "# store various data types -> even functions like \"print\" are possible!\n",
    "myMixed = [\"Hello\", \"World\", 3.1, print]\n",
    "\n",
    "# use the print function from the list\n",
    "myMixed[3](\"Hello World!\")"
   ]
  },
  {
   "cell_type": "markdown",
   "metadata": {},
   "source": [
    "# Dict: a special version of the list\n",
    "With a dictionary (`dict`) you can store pairs of values, just like in a dictionary. It can be used similar to a list and data types can also be mixed."
   ]
  },
  {
   "cell_type": "code",
   "execution_count": 27,
   "metadata": {},
   "outputs": [],
   "source": [
    "# would actually fit the name -> age combination much better:\n",
    "myDict = {'Thomas':23, \"Sara\":34, \"Markus\":33}   # {key:value, key:value, key:value}"
   ]
  },
  {
   "cell_type": "code",
   "execution_count": 28,
   "metadata": {},
   "outputs": [
    {
     "name": "stdout",
     "output_type": "stream",
     "text": [
      "Thomas 23\n",
      "Sara 34\n",
      "Markus 33\n"
     ]
    }
   ],
   "source": [
    "for item in myDict:\n",
    "    print(item, myDict[item])"
   ]
  },
  {
   "cell_type": "code",
   "execution_count": 29,
   "metadata": {},
   "outputs": [
    {
     "name": "stdout",
     "output_type": "stream",
     "text": [
      "Thomas is: 23\n"
     ]
    }
   ],
   "source": [
    "print(\"Thomas is:\", myDict[\"Thomas\"]) # print only Thomas' age"
   ]
  },
  {
   "cell_type": "code",
   "execution_count": 30,
   "metadata": {},
   "outputs": [],
   "source": [
    "# Not possible! Dicts are orderless...\n",
    "# myDict[0] -> give me first entry"
   ]
  },
  {
   "cell_type": "markdown",
   "metadata": {},
   "source": [
    "# Manipulating Strings\n",
    "There is a lot of useful ways to work with strings in python:"
   ]
  },
  {
   "cell_type": "code",
   "execution_count": 31,
   "metadata": {},
   "outputs": [
    {
     "data": {
      "text/plain": [
       "'hello world!'"
      ]
     },
     "execution_count": 31,
     "metadata": {},
     "output_type": "execute_result"
    }
   ],
   "source": [
    "\"Hello World!\".lower() # make everything lower case"
   ]
  },
  {
   "cell_type": "code",
   "execution_count": 32,
   "metadata": {},
   "outputs": [
    {
     "data": {
      "text/plain": [
       "'many spaces'"
      ]
     },
     "execution_count": 32,
     "metadata": {},
     "output_type": "execute_result"
    }
   ],
   "source": [
    "\"    many spaces  \".strip() # get rid of spaces in beginning and end"
   ]
  },
  {
   "cell_type": "code",
   "execution_count": 33,
   "metadata": {},
   "outputs": [
    {
     "name": "stdout",
     "output_type": "stream",
     "text": [
      "List of all parts: ['Hi', 'this is the Living Objects Lab.']\n",
      "Everything before the comma: Hi\n",
      "Everything after the comma: this is the Living Objects Lab.\n"
     ]
    }
   ],
   "source": [
    "mySentence = \"Hi, this is the Living Objects Lab.\"\n",
    "sentenceParts = mySentence.split(\", \")\n",
    "print(\"List of all parts:\", sentenceParts)\n",
    "print(\"Everything before the comma:\", sentenceParts[0])\n",
    "print(\"Everything after the comma:\", sentenceParts[1])\n"
   ]
  },
  {
   "cell_type": "markdown",
   "metadata": {},
   "source": [
    "# Packages and Modules\n",
    "\n",
    "This short example shows how to import and use python packages"
   ]
  },
  {
   "cell_type": "code",
   "execution_count": 8,
   "metadata": {},
   "outputs": [],
   "source": [
    "from matplotlib import pyplot as plt # import object pyplot from module matplotlib and give it the name \"plt\""
   ]
  },
  {
   "cell_type": "code",
   "execution_count": 9,
   "metadata": {},
   "outputs": [
    {
     "data": {
      "image/png": "[encoded data removed]",
      "text/plain": [
       "<Figure size 432x288 with 1 Axes>"
      ]
     },
     "metadata": {
      "needs_background": "light"
     },
     "output_type": "display_data"
    }
   ],
   "source": [
    "y=[] # create empty list\n",
    "\n",
    "for x in range (-10000, 10000):\n",
    "    y.append(x**2) # add values on a x squared 2 parable\n",
    "\n",
    "plt.plot(y)  # create the plot\n",
    "plt.show()   # display the plot"
   ]
  },
  {
   "cell_type": "markdown",
   "metadata": {},
   "source": [
    "# Plot Real Data\n",
    "We now use some real data from a csv file to be plotted. Download [this csv](https://github.com/robert-koch-institut/SARS-CoV-2-Nowcasting_und_-R-Schaetzung/blob/main/Nowcast_R_aktuell.csv) file first and place it in the same folder as this ipynb file."
   ]
  },
  {
   "cell_type": "code",
   "execution_count": 19,
   "metadata": {},
   "outputs": [
    {
     "data": {
      "text/html": [
       "<div>\n",
       "<style scoped>\n",
       "    .dataframe tbody tr th:only-of-type {\n",
       "        vertical-align: middle;\n",
       "    }\n",
       "\n",
       "    .dataframe tbody tr th {\n",
       "        vertical-align: top;\n",
       "    }\n",
       "\n",
       "    .dataframe thead th {\n",
       "        text-align: right;\n",
       "    }\n",
       "</style>\n",
       "<table border=\"1\" class=\"dataframe\">\n",
       "  <thead>\n",
       "    <tr style=\"text-align: right;\">\n",
       "      <th></th>\n",
       "      <th>Datum</th>\n",
       "      <th>PS_COVID_Faelle</th>\n",
       "      <th>UG_PI_COVID_Faelle</th>\n",
       "      <th>OG_PI_COVID_Faelle</th>\n",
       "      <th>PS_COVID_Faelle_ma4</th>\n",
       "      <th>UG_PI_COVID_Faelle_ma4</th>\n",
       "      <th>OG_PI_COVID_Faelle_ma4</th>\n",
       "      <th>PS_7_Tage_R_Wert</th>\n",
       "      <th>UG_PI_7_Tage_R_Wert</th>\n",
       "      <th>OG_PI_7_Tage_R_Wert</th>\n",
       "    </tr>\n",
       "  </thead>\n",
       "  <tbody>\n",
       "    <tr>\n",
       "      <th>0</th>\n",
       "      <td>2020-03-02</td>\n",
       "      <td>303</td>\n",
       "      <td>292</td>\n",
       "      <td>318</td>\n",
       "      <td>225</td>\n",
       "      <td>213</td>\n",
       "      <td>238</td>\n",
       "      <td>NaN</td>\n",
       "      <td>NaN</td>\n",
       "      <td>NaN</td>\n",
       "    </tr>\n",
       "    <tr>\n",
       "      <th>1</th>\n",
       "      <td>2020-03-03</td>\n",
       "      <td>321</td>\n",
       "      <td>304</td>\n",
       "      <td>336</td>\n",
       "      <td>261</td>\n",
       "      <td>248</td>\n",
       "      <td>275</td>\n",
       "      <td>NaN</td>\n",
       "      <td>NaN</td>\n",
       "      <td>NaN</td>\n",
       "    </tr>\n",
       "    <tr>\n",
       "      <th>2</th>\n",
       "      <td>2020-03-04</td>\n",
       "      <td>449</td>\n",
       "      <td>430</td>\n",
       "      <td>469</td>\n",
       "      <td>326</td>\n",
       "      <td>311</td>\n",
       "      <td>342</td>\n",
       "      <td>NaN</td>\n",
       "      <td>NaN</td>\n",
       "      <td>NaN</td>\n",
       "    </tr>\n",
       "    <tr>\n",
       "      <th>3</th>\n",
       "      <td>2020-03-05</td>\n",
       "      <td>503</td>\n",
       "      <td>483</td>\n",
       "      <td>524</td>\n",
       "      <td>394</td>\n",
       "      <td>377</td>\n",
       "      <td>412</td>\n",
       "      <td>NaN</td>\n",
       "      <td>NaN</td>\n",
       "      <td>NaN</td>\n",
       "    </tr>\n",
       "    <tr>\n",
       "      <th>4</th>\n",
       "      <td>2020-03-06</td>\n",
       "      <td>757</td>\n",
       "      <td>735</td>\n",
       "      <td>782</td>\n",
       "      <td>507</td>\n",
       "      <td>488</td>\n",
       "      <td>528</td>\n",
       "      <td>2.34</td>\n",
       "      <td>2.28</td>\n",
       "      <td>2.39</td>\n",
       "    </tr>\n",
       "    <tr>\n",
       "      <th>...</th>\n",
       "      <td>...</td>\n",
       "      <td>...</td>\n",
       "      <td>...</td>\n",
       "      <td>...</td>\n",
       "      <td>...</td>\n",
       "      <td>...</td>\n",
       "      <td>...</td>\n",
       "      <td>...</td>\n",
       "      <td>...</td>\n",
       "      <td>...</td>\n",
       "    </tr>\n",
       "    <tr>\n",
       "      <th>1003</th>\n",
       "      <td>2022-11-30</td>\n",
       "      <td>24946</td>\n",
       "      <td>22722</td>\n",
       "      <td>26512</td>\n",
       "      <td>27544</td>\n",
       "      <td>25913</td>\n",
       "      <td>28888</td>\n",
       "      <td>1.03</td>\n",
       "      <td>1.01</td>\n",
       "      <td>1.05</td>\n",
       "    </tr>\n",
       "    <tr>\n",
       "      <th>1004</th>\n",
       "      <td>2022-12-01</td>\n",
       "      <td>25250</td>\n",
       "      <td>22385</td>\n",
       "      <td>28387</td>\n",
       "      <td>27149</td>\n",
       "      <td>25112</td>\n",
       "      <td>29035</td>\n",
       "      <td>1.02</td>\n",
       "      <td>0.99</td>\n",
       "      <td>1.05</td>\n",
       "    </tr>\n",
       "    <tr>\n",
       "      <th>1005</th>\n",
       "      <td>2022-12-02</td>\n",
       "      <td>23419</td>\n",
       "      <td>19393</td>\n",
       "      <td>27735</td>\n",
       "      <td>25382</td>\n",
       "      <td>22732</td>\n",
       "      <td>28031</td>\n",
       "      <td>1.01</td>\n",
       "      <td>0.96</td>\n",
       "      <td>1.05</td>\n",
       "    </tr>\n",
       "    <tr>\n",
       "      <th>1006</th>\n",
       "      <td>2022-12-03</td>\n",
       "      <td>23520</td>\n",
       "      <td>19053</td>\n",
       "      <td>28256</td>\n",
       "      <td>24284</td>\n",
       "      <td>20888</td>\n",
       "      <td>27723</td>\n",
       "      <td>1.02</td>\n",
       "      <td>0.96</td>\n",
       "      <td>1.09</td>\n",
       "    </tr>\n",
       "    <tr>\n",
       "      <th>1007</th>\n",
       "      <td>2022-12-04</td>\n",
       "      <td>31153</td>\n",
       "      <td>20227</td>\n",
       "      <td>41000</td>\n",
       "      <td>25835</td>\n",
       "      <td>20264</td>\n",
       "      <td>31344</td>\n",
       "      <td>NaN</td>\n",
       "      <td>NaN</td>\n",
       "      <td>NaN</td>\n",
       "    </tr>\n",
       "  </tbody>\n",
       "</table>\n",
       "<p>1008 rows × 10 columns</p>\n",
       "</div>"
      ],
      "text/plain": [
       "           Datum  PS_COVID_Faelle  UG_PI_COVID_Faelle  OG_PI_COVID_Faelle  \\\n",
       "0     2020-03-02              303                 292                 318   \n",
       "1     2020-03-03              321                 304                 336   \n",
       "2     2020-03-04              449                 430                 469   \n",
       "3     2020-03-05              503                 483                 524   \n",
       "4     2020-03-06              757                 735                 782   \n",
       "...          ...              ...                 ...                 ...   \n",
       "1003  2022-11-30            24946               22722               26512   \n",
       "1004  2022-12-01            25250               22385               28387   \n",
       "1005  2022-12-02            23419               19393               27735   \n",
       "1006  2022-12-03            23520               19053               28256   \n",
       "1007  2022-12-04            31153               20227               41000   \n",
       "\n",
       "      PS_COVID_Faelle_ma4  UG_PI_COVID_Faelle_ma4  OG_PI_COVID_Faelle_ma4  \\\n",
       "0                     225                     213                     238   \n",
       "1                     261                     248                     275   \n",
       "2                     326                     311                     342   \n",
       "3                     394                     377                     412   \n",
       "4                     507                     488                     528   \n",
       "...                   ...                     ...                     ...   \n",
       "1003                27544                   25913                   28888   \n",
       "1004                27149                   25112                   29035   \n",
       "1005                25382                   22732                   28031   \n",
       "1006                24284                   20888                   27723   \n",
       "1007                25835                   20264                   31344   \n",
       "\n",
       "      PS_7_Tage_R_Wert  UG_PI_7_Tage_R_Wert  OG_PI_7_Tage_R_Wert  \n",
       "0                  NaN                  NaN                  NaN  \n",
       "1                  NaN                  NaN                  NaN  \n",
       "2                  NaN                  NaN                  NaN  \n",
       "3                  NaN                  NaN                  NaN  \n",
       "4                 2.34                 2.28                 2.39  \n",
       "...                ...                  ...                  ...  \n",
       "1003              1.03                 1.01                 1.05  \n",
       "1004              1.02                 0.99                 1.05  \n",
       "1005              1.01                 0.96                 1.05  \n",
       "1006              1.02                 0.96                 1.09  \n",
       "1007               NaN                  NaN                  NaN  \n",
       "\n",
       "[1008 rows x 10 columns]"
      ]
     },
     "execution_count": 19,
     "metadata": {},
     "output_type": "execute_result"
    }
   ],
   "source": [
    "import pandas as pd\n",
    "from matplotlib import pyplot as plt\n",
    "\n",
    "covidData=pd.read_csv('Nowcast_R_aktuell.csv') # load table in variable\n",
    "covidData # display table"
   ]
  },
  {
   "cell_type": "code",
   "execution_count": 20,
   "metadata": {},
   "outputs": [
    {
     "data": {
      "image/png": "[encoded data removed]",
      "text/plain": [
       "<Figure size 432x288 with 1 Axes>"
      ]
     },
     "metadata": {
      "needs_background": "light"
     },
     "output_type": "display_data"
    }
   ],
   "source": [
    "\n",
    "xValues = range(len(covidData['Datum']))    # create a list with all days numbered from day one of the pandemic\n",
    "yValues = covidData['PS_COVID_Faelle']      # create a second list with the corresponding covid cases at each day\n",
    "plt.plot(xValues, yValues)                  # create the plot\n",
    "plt.show()                                  # display plot "
   ]
  },
  {
   "cell_type": "code",
   "execution_count": null,
   "metadata": {},
   "outputs": [],
   "source": []
  },
  {
   "cell_type": "code",
   "execution_count": null,
   "metadata": {},
   "outputs": [],
   "source": []
  }
 ],
 "metadata": {
  "kernelspec": {
   "display_name": "Python 3.9.12 ('base')",
   "language": "python",
   "name": "python3"
  },
  "language_info": {
   "codemirror_mode": {
    "name": "ipython",
    "version": 3
   },
   "file_extension": ".py",
   "mimetype": "text/x-python",
   "name": "python",
   "nbconvert_exporter": "python",
   "pygments_lexer": "ipython3",
   "version": "3.9.12"
  },
  "orig_nbformat": 4,
  "vscode": {
   "interpreter": {
    "hash": "6188f2868b349343045f47cc5a9b19034474b5f7b850b0d3f1bca2b7f92a2d7f"
   }
  }
 },
 "nbformat": 4,
 "nbformat_minor": 2
}
